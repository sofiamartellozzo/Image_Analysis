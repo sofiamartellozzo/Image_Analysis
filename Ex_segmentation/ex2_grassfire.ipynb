{
  "nbformat": 4,
  "nbformat_minor": 0,
  "metadata": {
    "colab": {
      "provenance": []
    },
    "kernelspec": {
      "name": "python3",
      "display_name": "Python 3"
    },
    "language_info": {
      "name": "python"
    }
  },
  "cells": [
    {
      "cell_type": "markdown",
      "source": [
        "# S1b\n"
      ],
      "metadata": {
        "id": "XkbI3lmcIUvi"
      }
    },
    {
      "cell_type": "code",
      "execution_count": 1,
      "metadata": {
        "colab": {
          "base_uri": "https://localhost:8080/"
        },
        "id": "IZICZWInILsb",
        "outputId": "c4d256c5-4f3b-4906-cec2-b01106f8951c"
      },
      "outputs": [
        {
          "output_type": "stream",
          "name": "stdout",
          "text": [
            "Mounted at /content/drive\n"
          ]
        }
      ],
      "source": [
        "from google.colab import drive\n",
        "drive.mount('/content/drive')"
      ]
    },
    {
      "cell_type": "code",
      "source": [
        "# import libraries\n",
        "import cv2\n",
        "from google.colab.patches import cv2_imshow\n",
        "import numpy as np"
      ],
      "metadata": {
        "id": "MjMFgiAcIYSV"
      },
      "execution_count": 2,
      "outputs": []
    },
    {
      "cell_type": "code",
      "source": [
        "img = cv2.imread(\"/content/drive/MyDrive/Image Analysis/Ex_segment/particles.png\", cv2.IMREAD_GRAYSCALE)\n",
        "cv2_imshow(img)"
      ],
      "metadata": {
        "colab": {
          "base_uri": "https://localhost:8080/",
          "height": 273
        },
        "id": "xRWpkJXSIYPe",
        "outputId": "de26d962-44e9-4751-b981-dbca14e061ad"
      },
      "execution_count": 3,
      "outputs": [
        {
          "output_type": "display_data",
          "data": {
            "text/plain": [
              "<PIL.Image.Image image mode=L size=256x256 at 0x7F34BDC2CC10>"
            ],
            "image/png": "[encoded data removed]"
          },
          "metadata": {}
        }
      ]
    },
    {
      "cell_type": "code",
      "source": [
        "img3d = cv2.imread(\"/content/drive/MyDrive/Image Analysis/Ex_segment/particles.png\")\n",
        "cv2_imshow(img3d)"
      ],
      "metadata": {
        "colab": {
          "base_uri": "https://localhost:8080/",
          "height": 273
        },
        "id": "LJEVtkyEiLtS",
        "outputId": "21a0323b-7700-4481-8c9c-9d4dad76de29"
      },
      "execution_count": 4,
      "outputs": [
        {
          "output_type": "display_data",
          "data": {
            "text/plain": [
              "<PIL.Image.Image image mode=RGB size=256x256 at 0x7F34BDBFBE80>"
            ],
            "image/png": "[encoded data removed]"
          },
          "metadata": {}
        }
      ]
    },
    {
      "cell_type": "code",
      "source": [
        "img.shape"
      ],
      "metadata": {
        "colab": {
          "base_uri": "https://localhost:8080/"
        },
        "id": "dGw72j2rDcXf",
        "outputId": "0b1ef2f8-50ea-4de5-c8c3-d0cd80bb12e7"
      },
      "execution_count": 5,
      "outputs": [
        {
          "output_type": "execute_result",
          "data": {
            "text/plain": [
              "(256, 256)"
            ]
          },
          "metadata": {},
          "execution_count": 5
        }
      ]
    },
    {
      "cell_type": "code",
      "source": [
        "def grassfire(visited, image, groups, x, y, group):\n",
        "  #check the pixel is not already seen\n",
        "  if visited[x][y] == 0 and image[x][y] == 255:\n",
        "    groups[x][y] = group\n",
        "    visited[x][y] = 1\n",
        "\n",
        "    #look if there is still a cell down\n",
        "    if x < image.shape[0]-1:\n",
        "      #check if not beckground\n",
        "      if image[x+1][y] == 255:\n",
        "        #print('call for', x+1, y)\n",
        "        grassfire(visited, image, groups, x+1, y, group)\n",
        "\n",
        "    #look if there is still a cell on the right\n",
        "    if y < image.shape[1]-1:\n",
        "      #check if not beckground\n",
        "      if image[x][y+1] == 255:\n",
        "        #print('call for', x, y+1)\n",
        "        grassfire(visited, image, groups, x, y+1, group)\n",
        "\n",
        "    #look if there is a cell on the left\n",
        "    if x > 0:\n",
        "      #check if not beckground\n",
        "      if image[x-1][y] == 255:\n",
        "        #print('call for', x-1, y)\n",
        "        grassfire(visited, image, groups, x-1, y, group)\n",
        "\n",
        "    #look if there is a cell on the left\n",
        "    if y > 0:\n",
        "      #check if not beckground\n",
        "      if image[x-1][y] == 255:\n",
        "        #print('call for', x, y-1)\n",
        "        grassfire(visited, image, groups, x, y-1, group)\n",
        "\n",
        "    "
      ],
      "metadata": {
        "id": "NFpuQ23LA1kU"
      },
      "execution_count": 52,
      "outputs": []
    },
    {
      "cell_type": "code",
      "source": [
        "group = 1\n",
        "groups = np.zeros(img.shape)\n",
        "visited = np.zeros(img.shape) # 0:not visited 1:visited\n",
        "\n",
        "for x in range(img.shape[0]-1):\n",
        "  for y in range(img.shape[1]-1):\n",
        "\n",
        "    if (img[x][y] == 255) and (visited[x][y] == 0):\n",
        "      print('start process group: ', group)\n",
        "      print('pixel', x, y)\n",
        "      grassfire(visited, img, groups, x, y, group)\n",
        "      group += 1"
      ],
      "metadata": {
        "colab": {
          "base_uri": "https://localhost:8080/"
        },
        "id": "RtlkbPHXEwUf",
        "outputId": "a026e48d-acc5-45b0-ce34-6c94f596cb0f"
      },
      "execution_count": 53,
      "outputs": [
        {
          "output_type": "stream",
          "name": "stdout",
          "text": [
            "start process group:  1\n",
            "pixel 10 49\n",
            "start process group:  2\n",
            "pixel 16 149\n",
            "start process group:  3\n",
            "pixel 23 221\n",
            "start process group:  4\n",
            "pixel 31 54\n",
            "start process group:  5\n",
            "pixel 44 102\n",
            "start process group:  6\n",
            "pixel 62 168\n",
            "start process group:  7\n",
            "pixel 80 84\n",
            "start process group:  8\n",
            "pixel 85 29\n",
            "start process group:  9\n",
            "pixel 97 215\n",
            "start process group:  10\n",
            "pixel 105 121\n",
            "start process group:  11\n",
            "pixel 118 24\n",
            "start process group:  12\n",
            "pixel 124 86\n",
            "start process group:  13\n",
            "pixel 130 176\n",
            "start process group:  14\n",
            "pixel 143 201\n",
            "start process group:  15\n",
            "pixel 159 64\n",
            "start process group:  16\n",
            "pixel 182 111\n",
            "start process group:  17\n",
            "pixel 200 164\n",
            "start process group:  18\n",
            "pixel 204 68\n",
            "start process group:  19\n",
            "pixel 218 106\n",
            "start process group:  20\n",
            "pixel 225 28\n",
            "start process group:  21\n",
            "pixel 234 182\n"
          ]
        }
      ]
    },
    {
      "cell_type": "code",
      "source": [
        "cv2_imshow(groups)"
      ],
      "metadata": {
        "colab": {
          "base_uri": "https://localhost:8080/",
          "height": 273
        },
        "id": "kwVlX5sDGMF3",
        "outputId": "f485e75b-28a8-454d-cbd3-fa3586eb7a90"
      },
      "execution_count": 54,
      "outputs": [
        {
          "output_type": "display_data",
          "data": {
            "text/plain": [
              "<PIL.Image.Image image mode=L size=256x256 at 0x7F34BDC2CA30>"
            ],
            "image/png": "[encoded data removed]"
          },
          "metadata": {}
        }
      ]
    },
    {
      "cell_type": "code",
      "source": [
        "colors = {}\n",
        "\n",
        "CORAL = (255, 127, 80)\n",
        "ANTIQUEWHITE = (250, 235, 215)\n",
        "ORANGE = (255, 128, 0)\n",
        "RED1 = (255, 0, 0)\n",
        "ANTIQUEWHITE3 = (205, 192, 176)\n",
        "ANTIQUEWHITE4 = (139, 131, 120)\n",
        "AQUA = (0, 255, 255)\n",
        "AQUAMARINE1 = (127, 255, 212)\n",
        "PINK = (255, 192, 203)\n",
        "AQUAMARINE3 = (102, 205, 170)\n",
        "AQUAMARINE4 = (69, 139, 116)\n",
        "AZURE1 = (240, 255, 255)\n",
        "SALMON = (250, 128, 114)\n",
        "AZURE3 = (193, 205, 205)\n",
        "AZURE4 = (131, 139, 139)\n",
        "BANANA = (227, 207, 87)\n",
        "BEIGE = (245, 245, 220)\n",
        "BISQUE1 = (255, 228, 196)\n",
        "BISQUE2 = (238, 213, 183)\n",
        "TOMATO1 = (255, 99, 71)\n",
        "BISQUE4 = (139, 125, 107)\n",
        "\n",
        "colors['coral'] = CORAL\n",
        "colors['antiquewhite'] = ANTIQUEWHITE\n",
        "colors['orange'] = ORANGE\n",
        "colors['red1'] = RED1\n",
        "colors['antiquewhite3'] = ANTIQUEWHITE3\n",
        "colors['antiquewhite4'] = ANTIQUEWHITE4\n",
        "colors['aqua'] = AQUA\n",
        "colors['aquamarine1'] = AQUAMARINE1\n",
        "colors['pink'] = PINK\n",
        "colors['aquamarine3'] = AQUAMARINE3\n",
        "colors['aquamarine4'] = AQUAMARINE4\n",
        "colors['azure1'] = AZURE1\n",
        "colors['salmon'] = SALMON\n",
        "colors['azure3'] = AZURE3\n",
        "colors['azure4'] = AZURE4\n",
        "colors['banana'] = BANANA\n",
        "colors['beige'] = BEIGE\n",
        "colors['bisque1'] = BISQUE1\n",
        "colors['bisque2'] = BISQUE2\n",
        "colors['tomato1'] = TOMATO1\n",
        "colors['bisque4'] = BISQUE4"
      ],
      "metadata": {
        "id": "wWjhCGDYRRqb"
      },
      "execution_count": 61,
      "outputs": []
    },
    {
      "cell_type": "code",
      "source": [
        " # Assign colors we have created before (just for visualization)\n",
        "  # Create an empty 'mask_rgb' array filled with zeros\n",
        "mask_rgb = np.zeros([img.shape[0], img.shape[1], 3])\n",
        "  # For each class in the mask, assign the corresponding color (colors[i])\n",
        "i = 1\n",
        "for color_idx in colors.keys():\n",
        "   mask_rgb[np.where(groups == i)] = np.array(colors[color_idx])[:3]\n",
        "   i+= 1\n",
        "\n",
        "cv2_imshow(mask_rgb)"
      ],
      "metadata": {
        "colab": {
          "base_uri": "https://localhost:8080/",
          "height": 273
        },
        "id": "9e7jDRwZG3ux",
        "outputId": "1452117b-032d-4492-bb17-1b93aa404cb4"
      },
      "execution_count": 62,
      "outputs": [
        {
          "output_type": "display_data",
          "data": {
            "text/plain": [
              "<PIL.Image.Image image mode=RGB size=256x256 at 0x7F348E924D00>"
            ],
            "image/png": "[encoded data removed]"
          },
          "metadata": {}
        }
      ]
    }
  ]
}