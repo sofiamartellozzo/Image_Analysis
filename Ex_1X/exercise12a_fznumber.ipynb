{
  "nbformat": 4,
  "nbformat_minor": 0,
  "metadata": {
    "colab": {
      "provenance": []
    },
    "kernelspec": {
      "name": "python3",
      "display_name": "Python 3"
    },
    "language_info": {
      "name": "python"
    }
  },
  "cells": [
    {
      "cell_type": "code",
      "execution_count": 1,
      "metadata": {
        "colab": {
          "base_uri": "https://localhost:8080/"
        },
        "id": "cUPshhZcauyH",
        "outputId": "525c1a50-9143-4925-b349-bebb141520b0"
      },
      "outputs": [
        {
          "output_type": "stream",
          "name": "stdout",
          "text": [
            "Mounted at /content/drive\n"
          ]
        }
      ],
      "source": [
        "from google.colab import drive\n",
        "drive.mount('/content/drive')"
      ]
    },
    {
      "cell_type": "code",
      "source": [
        "# import libraries\n",
        "import cv2\n",
        "from google.colab.patches import cv2_imshow\n",
        "import numpy as np"
      ],
      "metadata": {
        "id": "gZ4Jr-CAa_iH"
      },
      "execution_count": 2,
      "outputs": []
    },
    {
      "cell_type": "code",
      "source": [
        "%cd /content/drive/MyDrive/Image Analysis/Ex_1X"
      ],
      "metadata": {
        "colab": {
          "base_uri": "https://localhost:8080/"
        },
        "id": "sAXyLtbTcCwy",
        "outputId": "c2f73794-7449-4f8e-a236-0af925c4633e"
      },
      "execution_count": 3,
      "outputs": [
        {
          "output_type": "stream",
          "name": "stdout",
          "text": [
            "/content/drive/MyDrive/Image Analysis/Ex_1X\n"
          ]
        }
      ]
    },
    {
      "cell_type": "markdown",
      "source": [
        "Download the input images"
      ],
      "metadata": {
        "id": "reVLH8ISHybR"
      }
    },
    {
      "cell_type": "code",
      "source": [
        "input_img1 = cv2.imread(\"img/immed_gray_inv_20051218_thresh127.pgm\", cv2.IMREAD_GRAYSCALE)"
      ],
      "metadata": {
        "id": "-U069LDZbAPZ"
      },
      "execution_count": 4,
      "outputs": []
    },
    {
      "cell_type": "code",
      "source": [
        "cv2_imshow(input_img1)"
      ],
      "metadata": {
        "colab": {
          "base_uri": "https://localhost:8080/",
          "height": 236
        },
        "id": "ijElHA_nujJ3",
        "outputId": "54d0446d-2a96-4210-fcb6-298dea733d23"
      },
      "execution_count": 5,
      "outputs": [
        {
          "output_type": "display_data",
          "data": {
            "text/plain": [
              "<PIL.Image.Image image mode=L size=212x219 at 0x7F61A123F310>"
            ],
            "image/png": "[encoded data removed]"
          },
          "metadata": {}
        }
      ]
    },
    {
      "cell_type": "code",
      "source": [
        "input_img1.shape"
      ],
      "metadata": {
        "colab": {
          "base_uri": "https://localhost:8080/"
        },
        "id": "LhIewXe5yO8J",
        "outputId": "86d4eb44-50b1-4872-dd57-7f686f0fddec"
      },
      "execution_count": 6,
      "outputs": [
        {
          "output_type": "execute_result",
          "data": {
            "text/plain": [
              "(219, 212)"
            ]
          },
          "metadata": {},
          "execution_count": 6
        }
      ]
    },
    {
      "cell_type": "code",
      "source": [
        "input_img2 = cv2.imread(\"img/immed_gray_inv.pgm\", cv2.IMREAD_GRAYSCALE)"
      ],
      "metadata": {
        "id": "JM_bSbSPH-rh"
      },
      "execution_count": 7,
      "outputs": []
    },
    {
      "cell_type": "code",
      "source": [
        "cv2_imshow(input_img2)"
      ],
      "metadata": {
        "colab": {
          "base_uri": "https://localhost:8080/",
          "height": 236
        },
        "id": "a8PpxIebIOsj",
        "outputId": "4247e8bc-23da-4c6a-c876-810ae2434a51"
      },
      "execution_count": 8,
      "outputs": [
        {
          "output_type": "display_data",
          "data": {
            "text/plain": [
              "<PIL.Image.Image image mode=L size=212x219 at 0x7F6178A96BB0>"
            ],
            "image/png": "[encoded data removed]"
          },
          "metadata": {}
        }
      ]
    },
    {
      "cell_type": "code",
      "source": [
        "input_img2.shape"
      ],
      "metadata": {
        "colab": {
          "base_uri": "https://localhost:8080/"
        },
        "id": "08cGPfWRIQCx",
        "outputId": "f1be2fc8-5a7e-4d62-eeb6-a80efa0175cc"
      },
      "execution_count": 9,
      "outputs": [
        {
          "output_type": "execute_result",
          "data": {
            "text/plain": [
              "(219, 212)"
            ]
          },
          "metadata": {},
          "execution_count": 9
        }
      ]
    },
    {
      "cell_type": "code",
      "source": [
        "CONN1 = 8\n",
        "CONN2 = 8"
      ],
      "metadata": {
        "id": "DCXQGr0XVs5L"
      },
      "execution_count": 10,
      "outputs": []
    },
    {
      "cell_type": "markdown",
      "source": [
        "perform the fletzone algorithm"
      ],
      "metadata": {
        "id": "JcxiSiR_hqQg"
      }
    },
    {
      "cell_type": "code",
      "source": [
        "LABEL_NO_FZ = 0"
      ],
      "metadata": {
        "id": "fnrqT5ypjC7e"
      },
      "execution_count": 11,
      "outputs": []
    },
    {
      "cell_type": "code",
      "source": [
        "def setImageValue(img, LABEL_NO_FZ):\n",
        "  return np.full((img.shape[0],img.shape[1]), LABEL_NO_FZ)"
      ],
      "metadata": {
        "id": "ZzvJLyXSiV_y"
      },
      "execution_count": 12,
      "outputs": []
    },
    {
      "cell_type": "code",
      "source": [
        "def calculateRange(i, index, tot):\n",
        "  if (index < i) :\n",
        "    #not enouth in the upper part\n",
        "    step = i - index\n",
        "    return range(-i+step, i+1)\n",
        "\n",
        "  elif((tot-1)-index < i):\n",
        "    #not enouth in the lower part\n",
        "    step = i - (tot - (index + 1))\n",
        "    return range(-i, i+1-step)\n",
        "\n",
        "  else:\n",
        "    #hole filter\n",
        "    return range(-i, i+1)"
      ],
      "metadata": {
        "id": "BycRYyNSmQpN"
      },
      "execution_count": 13,
      "outputs": []
    },
    {
      "cell_type": "code",
      "source": [
        "def GetNeighbors(x, y, inp_img, CONN):\n",
        "\n",
        "  nrows = inp_img.shape[0]\n",
        "  ncols = inp_img.shape[1]\n",
        "\n",
        "  row_fil = calculateRange(1, x, nrows)\n",
        "  col_fil = calculateRange(1, y, ncols)\n",
        "\n",
        "  neighbors = []\n",
        "\n",
        "  if CONN == 4:\n",
        "    #we are in 4-connectivity\n",
        "    for row in row_fil:\n",
        "      if row != 0:\n",
        "        neighbors.append((x+row, y))\n",
        "\n",
        "    for col in col_fil:\n",
        "      if col != 0:\n",
        "        neighbors.append((x, y+col))\n",
        "\n",
        "  else:\n",
        "    #we are in 8 connectivity\n",
        "    for row in row_fil:\n",
        "      for col in col_fil:\n",
        "        if not(row == 0 and col == 0):\n",
        "          neighbors.append((x+row, y+col))\n",
        "\n",
        "  return neighbors"
      ],
      "metadata": {
        "id": "zxMHcLIxkXE6"
      },
      "execution_count": 14,
      "outputs": []
    },
    {
      "cell_type": "code",
      "source": [
        "def Insert(flatzone, x, y):\n",
        "  flatzone.append((x, y))\n",
        "  return flatzone"
      ],
      "metadata": {
        "id": "xj556nktd7hG"
      },
      "execution_count": 15,
      "outputs": []
    },
    {
      "cell_type": "code",
      "source": [
        "def Extract(flatzone):\n",
        "  return flatzone.pop()"
      ],
      "metadata": {
        "id": "GK9_1YBHePfh"
      },
      "execution_count": 16,
      "outputs": []
    },
    {
      "cell_type": "code",
      "source": [
        "def checkNeighbors(r, c, neighbors, input_img, out_img, LABEL_FZ, flatzone):\n",
        "  for i in range(len(neighbors)):\n",
        "\n",
        "    rr, cc = neighbors[i]\n",
        "      \n",
        "    p1 = input_img[r][c]\n",
        "    p2 = input_img[rr][cc]\n",
        "\n",
        "    if ((p1 == p2) and (out_img[rr][cc] != LABEL_FZ)):\n",
        "\n",
        "      out_img[rr][cc] = LABEL_FZ\n",
        "      flatzone = Insert(flatzone, rr, cc)\n",
        "\n",
        "  return out_img, flatzone"
      ],
      "metadata": {
        "id": "hr_NwGOx2-vB"
      },
      "execution_count": 18,
      "outputs": []
    },
    {
      "cell_type": "code",
      "source": [
        "def ReconstructFlatZone(input_img, x, y, LABEL_FZ, CONN, out_img):\n",
        "\n",
        "  #set the value of x pixel in output as flatzone label\n",
        "  out_img[x][y] = LABEL_FZ\n",
        "\n",
        "  #creation of the flatzone queue\n",
        "  flatzone = []\n",
        "\n",
        "  #flatzone = Insert(flatzone, x, y, inp_img)\n",
        "  flatzone = Insert(flatzone, x, y)\n",
        "\n",
        "  while(len(flatzone) > 0):\n",
        "\n",
        "    r, c = Extract(flatzone)\n",
        "\n",
        "    neighbors = GetNeighbors(r, c, input_img, CONN)\n",
        "\n",
        "    out_img, flatzone = checkNeighbors(r, c, neighbors, input_img, out_img, LABEL_FZ, flatzone)\n",
        "\n",
        "  return out_img\n",
        "\n"
      ],
      "metadata": {
        "id": "lNZbxk16gLAE"
      },
      "execution_count": 19,
      "outputs": []
    },
    {
      "cell_type": "code",
      "source": [
        "#initialize the output\n",
        "out1 = setImageValue(input_img1, LABEL_NO_FZ)\n",
        "count = 0\n",
        "\n",
        "for r in range(input_img1.shape[0]):\n",
        "  for c in range(input_img1.shape[1]):\n",
        "\n",
        "    pixel = input_img1[r][c]\n",
        "\n",
        "    if pixel != 0 and out1[r][c] == LABEL_NO_FZ:\n",
        "      count += 1\n",
        "      LABEL_FZ1 = pixel\n",
        "      out1 = ReconstructFlatZone(input_img1,r,c,LABEL_FZ1, CONN1, out1)\n",
        "\n",
        "count += 1\n",
        "\n",
        "print('The total number of flatzone is:', count)"
      ],
      "metadata": {
        "id": "DRtZ2AvqkkwQ",
        "colab": {
          "base_uri": "https://localhost:8080/"
        },
        "outputId": "b30a98e5-ea75-4f2c-8c8f-ea7913c71b0a"
      },
      "execution_count": 33,
      "outputs": [
        {
          "output_type": "stream",
          "name": "stdout",
          "text": [
            "The total number of flatzone is: 55\n"
          ]
        }
      ]
    },
    {
      "cell_type": "code",
      "source": [
        "cv2_imshow(out1)"
      ],
      "metadata": {
        "colab": {
          "base_uri": "https://localhost:8080/",
          "height": 236
        },
        "id": "QtKA6s6rtFIX",
        "outputId": "23437380-151a-435c-bb80-8bc7bedc0fd3"
      },
      "execution_count": 22,
      "outputs": [
        {
          "output_type": "display_data",
          "data": {
            "text/plain": [
              "<PIL.Image.Image image mode=L size=212x219 at 0x7F616F3433D0>"
            ],
            "image/png": "[encoded data removed]"
          },
          "metadata": {}
        }
      ]
    },
    {
      "cell_type": "code",
      "source": [
        "#initialize the output\n",
        "out2 = setImageValue(input_img2, LABEL_NO_FZ)\n",
        "count = 0\n",
        "\n",
        "for r in range(input_img2.shape[0]):\n",
        "  for c in range(input_img2.shape[1]):\n",
        "\n",
        "    pixel = input_img2[r][c]\n",
        "\n",
        "    if pixel != 0 and out2[r][c] == LABEL_NO_FZ:\n",
        "      count += 1\n",
        "      LABEL_FZ2 = pixel\n",
        "      out2 = ReconstructFlatZone(input_img2,r,c,LABEL_FZ2, CONN2, out2)\n",
        "\n",
        "count += 1\n",
        "\n",
        "print('The total number of flatzone is:', count)"
      ],
      "metadata": {
        "colab": {
          "base_uri": "https://localhost:8080/"
        },
        "id": "nSzbeSnf974s",
        "outputId": "12cc111d-7781-496f-991d-1275f9bb9d52"
      },
      "execution_count": 35,
      "outputs": [
        {
          "output_type": "stream",
          "name": "stdout",
          "text": [
            "The total number of flatzone is: 12488\n"
          ]
        }
      ]
    },
    {
      "cell_type": "code",
      "source": [
        "cv2_imshow(out2)"
      ],
      "metadata": {
        "colab": {
          "base_uri": "https://localhost:8080/",
          "height": 236
        },
        "id": "ykKA8eNVJzi9",
        "outputId": "5f8f0f42-30a3-48f8-eebf-18ecc30f15d8"
      },
      "execution_count": 32,
      "outputs": [
        {
          "output_type": "display_data",
          "data": {
            "text/plain": [
              "<PIL.Image.Image image mode=L size=212x219 at 0x7F616F285D30>"
            ],
            "image/png": "[encoded data removed]"
          },
          "metadata": {}
        }
      ]
    }
  ]
}